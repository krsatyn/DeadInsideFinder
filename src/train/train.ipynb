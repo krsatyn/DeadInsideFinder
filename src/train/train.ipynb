{
 "cells": [
  {
   "cell_type": "code",
   "execution_count": 2,
   "metadata": {},
   "outputs": [],
   "source": [
    "import torch\n",
    "\n",
    "from src.train.dataset import get_dataset\n",
    "from torch import nn\n",
    "\n",
    "dataset_dict = get_dataset(csv_path='src/dataset/twitter_training.csv',\n",
    "                           csv_column=['source_id', 'source', 'mood', 'context'],\n",
    "                           eat_column_name='context',\n",
    "                           label_column_name='mood')\n",
    "\n",
    "train_set = dataset_dict['train'][0]\n",
    "train_label = dataset_dict['train'][1]\n",
    "\n",
    "test_set = dataset_dict['test'][0]\n",
    "test_label = dataset_dict['test'][1]\n",
    "\n",
    "valid_set = dataset_dict['valid'][0]\n",
    "valid_label = dataset_dict['valid'][1]\n",
    "\n",
    "device "
   ]
  },
  {
   "cell_type": "code",
   "execution_count": 23,
   "metadata": {},
   "outputs": [
    {
     "name": "stdout",
     "output_type": "stream",
     "text": [
      "None\n"
     ]
    }
   ],
   "source": [
    "print(os.getcwd())"
   ]
  },
  {
   "cell_type": "code",
   "execution_count": null,
   "metadata": {},
   "outputs": [],
   "source": [
    "input_dataset = pandas.read_csv('src/dataset/twitter_training.csv')"
   ]
  }
 ],
 "metadata": {
  "kernelspec": {
   "display_name": ".venv",
   "language": "python",
   "name": "python3"
  },
  "language_info": {
   "codemirror_mode": {
    "name": "ipython",
    "version": 3
   },
   "file_extension": ".py",
   "mimetype": "text/x-python",
   "name": "python",
   "nbconvert_exporter": "python",
   "pygments_lexer": "ipython3",
   "version": "3.8.9"
  }
 },
 "nbformat": 4,
 "nbformat_minor": 2
}
